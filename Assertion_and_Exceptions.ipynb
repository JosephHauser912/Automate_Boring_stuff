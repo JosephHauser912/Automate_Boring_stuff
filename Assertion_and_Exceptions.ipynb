{
 "cells": [
  {
   "cell_type": "code",
   "execution_count": 1,
   "id": "79bfc6dc-27de-4951-b5d5-693018fd5099",
   "metadata": {},
   "outputs": [
    {
     "ename": "ZeroDivisionError",
     "evalue": "division by zero",
     "output_type": "error",
     "traceback": [
      "\u001b[1;31m---------------------------------------------------------------------------\u001b[0m",
      "\u001b[1;31mZeroDivisionError\u001b[0m                         Traceback (most recent call last)",
      "Cell \u001b[1;32mIn[1], line 1\u001b[0m\n\u001b[1;32m----> 1\u001b[0m \u001b[38;5;241m42\u001b[39m\u001b[38;5;241m/\u001b[39m\u001b[38;5;241m0\u001b[39m\n",
      "\u001b[1;31mZeroDivisionError\u001b[0m: division by zero"
     ]
    }
   ],
   "source": [
    "42/0"
   ]
  },
  {
   "cell_type": "code",
   "execution_count": 3,
   "id": "2f782a10-abfa-4da8-9ef7-789bf99b0388",
   "metadata": {},
   "outputs": [
    {
     "ename": "Exception",
     "evalue": "Your mom is an error message",
     "output_type": "error",
     "traceback": [
      "\u001b[1;31m---------------------------------------------------------------------------\u001b[0m",
      "\u001b[1;31mException\u001b[0m                                 Traceback (most recent call last)",
      "Cell \u001b[1;32mIn[3], line 1\u001b[0m\n\u001b[1;32m----> 1\u001b[0m \u001b[38;5;28;01mraise\u001b[39;00m \u001b[38;5;167;01mException\u001b[39;00m(\u001b[38;5;124m\"\u001b[39m\u001b[38;5;124mYour mom is an error message\u001b[39m\u001b[38;5;124m\"\u001b[39m)\n",
      "\u001b[1;31mException\u001b[0m: Your mom is an error message"
     ]
    }
   ],
   "source": [
    "raise Exception(\"Your mom is an error message\")"
   ]
  },
  {
   "cell_type": "code",
   "execution_count": 8,
   "id": "430888b9-3f3c-4fbc-9566-216586441ea8",
   "metadata": {},
   "outputs": [
    {
     "name": "stdout",
     "output_type": "stream",
     "text": [
      "***************\n",
      "*             *\n",
      "*             *\n",
      "*             *\n",
      "***************\n"
     ]
    }
   ],
   "source": [
    "\"\"\"\n",
    "*********\n",
    "*       *\n",
    "*       *\n",
    "*       *\n",
    "*       *\n",
    "*********\n",
    "\"\"\"\n",
    "\n",
    "def boxPrint(symbol, width, height):\n",
    "    print(symbol * width)\n",
    "\n",
    "    for i in range(height -2):\n",
    "        print(symbol + (' ' * (width -2)) + symbol)\n",
    "    print(symbol * width)\n",
    "\n",
    "\n",
    "boxPrint('*', 15, 5)"
   ]
  },
  {
   "cell_type": "code",
   "execution_count": 9,
   "id": "319dcad1-948c-4592-88f2-0da3834b4b5a",
   "metadata": {},
   "outputs": [
    {
     "name": "stdout",
     "output_type": "stream",
     "text": [
      "OOOOO\n",
      "O   O\n",
      "O   O\n",
      "O   O\n",
      "O   O\n",
      "O   O\n",
      "O   O\n",
      "O   O\n",
      "O   O\n",
      "O   O\n",
      "O   O\n",
      "O   O\n",
      "O   O\n",
      "O   O\n",
      "O   O\n",
      "OOOOO\n"
     ]
    }
   ],
   "source": [
    "boxPrint('O', 5, 16)"
   ]
  },
  {
   "cell_type": "code",
   "execution_count": 10,
   "id": "0549e3eb-8197-48a4-9a75-98803219cc47",
   "metadata": {},
   "outputs": [
    {
     "name": "stdout",
     "output_type": "stream",
     "text": [
      "OoOoOoOoOo\n",
      "Oo   Oo\n",
      "Oo   Oo\n",
      "Oo   Oo\n",
      "Oo   Oo\n",
      "Oo   Oo\n",
      "Oo   Oo\n",
      "Oo   Oo\n",
      "Oo   Oo\n",
      "Oo   Oo\n",
      "Oo   Oo\n",
      "Oo   Oo\n",
      "Oo   Oo\n",
      "Oo   Oo\n",
      "Oo   Oo\n",
      "OoOoOoOoOo\n"
     ]
    }
   ],
   "source": [
    "boxPrint('Oo', 5, 16)"
   ]
  },
  {
   "cell_type": "code",
   "execution_count": 13,
   "id": "e30f71e5-da2b-442d-9ee8-f8675c4339cb",
   "metadata": {},
   "outputs": [],
   "source": [
    "def boxPrint(symbol, width, height):\n",
    "    if len(symbol) != 1:\n",
    "        raise Exception(\"'Symbol' needs to be a string of length 1.\")\n",
    "    if (width<2) or (height<2):\n",
    "        raise Exception('\"Width\" and \"Height\" must be greater or equal to 2.')\n",
    "    print(symbol * width)\n",
    "\n",
    "    for i in range(height -2):\n",
    "        print(symbol + (' ' * (width -2)) + symbol)\n",
    "    print(symbol * width)"
   ]
  },
  {
   "cell_type": "code",
   "execution_count": 15,
   "id": "ebb48de9-70c7-46d7-a91b-d1d6c6d6e23a",
   "metadata": {},
   "outputs": [
    {
     "ename": "Exception",
     "evalue": "\"Width\" and \"Height\" must be greater or equal to 2.",
     "output_type": "error",
     "traceback": [
      "\u001b[1;31m---------------------------------------------------------------------------\u001b[0m",
      "\u001b[1;31mException\u001b[0m                                 Traceback (most recent call last)",
      "Cell \u001b[1;32mIn[15], line 1\u001b[0m\n\u001b[1;32m----> 1\u001b[0m boxPrint(\u001b[38;5;124m'\u001b[39m\u001b[38;5;124m0\u001b[39m\u001b[38;5;124m'\u001b[39m,\u001b[38;5;241m1\u001b[39m,\u001b[38;5;241m4\u001b[39m)\n",
      "Cell \u001b[1;32mIn[13], line 5\u001b[0m, in \u001b[0;36mboxPrint\u001b[1;34m(symbol, width, height)\u001b[0m\n\u001b[0;32m      3\u001b[0m     \u001b[38;5;28;01mraise\u001b[39;00m \u001b[38;5;167;01mException\u001b[39;00m(\u001b[38;5;124m\"\u001b[39m\u001b[38;5;124m'\u001b[39m\u001b[38;5;124mSymbol\u001b[39m\u001b[38;5;124m'\u001b[39m\u001b[38;5;124m needs to be a string of length 1.\u001b[39m\u001b[38;5;124m\"\u001b[39m)\n\u001b[0;32m      4\u001b[0m \u001b[38;5;28;01mif\u001b[39;00m (width\u001b[38;5;241m<\u001b[39m\u001b[38;5;241m2\u001b[39m) \u001b[38;5;129;01mor\u001b[39;00m (height\u001b[38;5;241m<\u001b[39m\u001b[38;5;241m2\u001b[39m):\n\u001b[1;32m----> 5\u001b[0m     \u001b[38;5;28;01mraise\u001b[39;00m \u001b[38;5;167;01mException\u001b[39;00m(\u001b[38;5;124m'\u001b[39m\u001b[38;5;124m\"\u001b[39m\u001b[38;5;124mWidth\u001b[39m\u001b[38;5;124m\"\u001b[39m\u001b[38;5;124m and \u001b[39m\u001b[38;5;124m\"\u001b[39m\u001b[38;5;124mHeight\u001b[39m\u001b[38;5;124m\"\u001b[39m\u001b[38;5;124m must be greater or equal to 2.\u001b[39m\u001b[38;5;124m'\u001b[39m)\n\u001b[0;32m      6\u001b[0m \u001b[38;5;28mprint\u001b[39m(symbol \u001b[38;5;241m*\u001b[39m width)\n\u001b[0;32m      8\u001b[0m \u001b[38;5;28;01mfor\u001b[39;00m i \u001b[38;5;129;01min\u001b[39;00m \u001b[38;5;28mrange\u001b[39m(height \u001b[38;5;241m-\u001b[39m\u001b[38;5;241m2\u001b[39m):\n",
      "\u001b[1;31mException\u001b[0m: \"Width\" and \"Height\" must be greater or equal to 2."
     ]
    }
   ],
   "source": [
    "boxPrint('0',1,4)"
   ]
  },
  {
   "cell_type": "code",
   "execution_count": 16,
   "id": "de508454-a12c-4a11-a2f0-07e78937375b",
   "metadata": {},
   "outputs": [],
   "source": [
    "import traceback"
   ]
  },
  {
   "cell_type": "code",
   "execution_count": 17,
   "id": "02f78e64-1988-49fd-ae66-21d944def2a2",
   "metadata": {},
   "outputs": [
    {
     "name": "stdout",
     "output_type": "stream",
     "text": [
      "The traceback info was wrritten in error_log.txt\n"
     ]
    }
   ],
   "source": [
    "try:\n",
    "    raise Exception(\"This is an error message\")\n",
    "except:\n",
    "    errorFile = open(\"error_log.txt\", 'a')\n",
    "    errorFile.write(traceback.format_exc())\n",
    "    errorFile.close()\n",
    "    print(\"The traceback info was wrritten in error_log.txt\")"
   ]
  },
  {
   "cell_type": "code",
   "execution_count": 18,
   "id": "f8e4ff79-fcc5-4d08-b14e-c53fdd737a88",
   "metadata": {},
   "outputs": [
    {
     "data": {
      "text/plain": [
       "'C:\\\\Users\\\\josep\\\\MyPythonScripts'"
      ]
     },
     "execution_count": 18,
     "metadata": {},
     "output_type": "execute_result"
    }
   ],
   "source": [
    "import os\n",
    "os.getcwd()"
   ]
  },
  {
   "cell_type": "markdown",
   "id": "78be8424-a6ef-480d-96bc-4b8f553eb59c",
   "metadata": {},
   "source": [
    "# Assertions"
   ]
  },
  {
   "cell_type": "code",
   "execution_count": 30,
   "id": "754cf398-f7aa-4c93-9b54-aed805eb18d9",
   "metadata": {},
   "outputs": [
    {
     "ename": "AssertionError",
     "evalue": "This is THE error message",
     "output_type": "error",
     "traceback": [
      "\u001b[1;31m---------------------------------------------------------------------------\u001b[0m",
      "\u001b[1;31mAssertionError\u001b[0m                            Traceback (most recent call last)",
      "Cell \u001b[1;32mIn[30], line 1\u001b[0m\n\u001b[1;32m----> 1\u001b[0m \u001b[38;5;28;01massert\u001b[39;00m \u001b[38;5;28;01mFalse\u001b[39;00m, \u001b[38;5;124m'\u001b[39m\u001b[38;5;124mThis is THE error message\u001b[39m\u001b[38;5;124m'\u001b[39m\n",
      "\u001b[1;31mAssertionError\u001b[0m: This is THE error message"
     ]
    }
   ],
   "source": [
    "assert False, 'This is THE error message'"
   ]
  },
  {
   "cell_type": "code",
   "execution_count": 31,
   "id": "5aef7bac-0927-41c8-b78d-ca141107f1ab",
   "metadata": {},
   "outputs": [],
   "source": [
    "market_2nd = {'ns': 'green', 'ew':'red'}"
   ]
  },
  {
   "cell_type": "code",
   "execution_count": 56,
   "id": "ea3f7e14-8195-42cd-960a-9a803a4a3ea6",
   "metadata": {},
   "outputs": [],
   "source": [
    "def switchLights(intersection):\n",
    "    for key in intersection.keys():\n",
    "        if intersection[key] == 'green':\n",
    "            intersection[key] = 'yellow'\n",
    "        elif intersection[key] == 'yellow':\n",
    "            intersection[key] = 'red'\n",
    "        elif intersection[key] == 'red':\n",
    "            intersection[key] = 'green'\n",
    "    assert 'red' in intersection.values(), \"Neither light is red!\" + str(intersection)"
   ]
  },
  {
   "cell_type": "code",
   "execution_count": 57,
   "id": "575e8a08-2ee7-4459-91cf-6a469f85b63d",
   "metadata": {},
   "outputs": [
    {
     "name": "stdout",
     "output_type": "stream",
     "text": [
      "{'ns': 'green', 'ew': 'red'}\n"
     ]
    }
   ],
   "source": [
    "print(market_2nd)"
   ]
  },
  {
   "cell_type": "code",
   "execution_count": 58,
   "id": "e02bb0cd-e6ed-4acc-9572-109566601273",
   "metadata": {},
   "outputs": [
    {
     "ename": "AssertionError",
     "evalue": "Neither light is red!{'ns': 'yellow', 'ew': 'green'}",
     "output_type": "error",
     "traceback": [
      "\u001b[1;31m---------------------------------------------------------------------------\u001b[0m",
      "\u001b[1;31mAssertionError\u001b[0m                            Traceback (most recent call last)",
      "Cell \u001b[1;32mIn[58], line 1\u001b[0m\n\u001b[1;32m----> 1\u001b[0m switchLights(market_2nd)\n",
      "Cell \u001b[1;32mIn[56], line 9\u001b[0m, in \u001b[0;36mswitchLights\u001b[1;34m(intersection)\u001b[0m\n\u001b[0;32m      7\u001b[0m     \u001b[38;5;28;01melif\u001b[39;00m intersection[key] \u001b[38;5;241m==\u001b[39m \u001b[38;5;124m'\u001b[39m\u001b[38;5;124mred\u001b[39m\u001b[38;5;124m'\u001b[39m:\n\u001b[0;32m      8\u001b[0m         intersection[key] \u001b[38;5;241m=\u001b[39m \u001b[38;5;124m'\u001b[39m\u001b[38;5;124mgreen\u001b[39m\u001b[38;5;124m'\u001b[39m\n\u001b[1;32m----> 9\u001b[0m \u001b[38;5;28;01massert\u001b[39;00m \u001b[38;5;124m'\u001b[39m\u001b[38;5;124mred\u001b[39m\u001b[38;5;124m'\u001b[39m \u001b[38;5;129;01min\u001b[39;00m intersection\u001b[38;5;241m.\u001b[39mvalues(), \u001b[38;5;124m\"\u001b[39m\u001b[38;5;124mNeither light is red!\u001b[39m\u001b[38;5;124m\"\u001b[39m \u001b[38;5;241m+\u001b[39m \u001b[38;5;28mstr\u001b[39m(intersection)\n",
      "\u001b[1;31mAssertionError\u001b[0m: Neither light is red!{'ns': 'yellow', 'ew': 'green'}"
     ]
    }
   ],
   "source": [
    "switchLights(market_2nd)"
   ]
  },
  {
   "cell_type": "code",
   "execution_count": 59,
   "id": "914da14c-cb1f-4e70-9e68-31ee5f8d88dc",
   "metadata": {},
   "outputs": [
    {
     "name": "stdout",
     "output_type": "stream",
     "text": [
      "{'ns': 'yellow', 'ew': 'green'}\n"
     ]
    }
   ],
   "source": [
    "print(market_2nd)"
   ]
  },
  {
   "cell_type": "code",
   "execution_count": null,
   "id": "02b5c164-cc1e-4e8d-95d2-24c04ae1f2e2",
   "metadata": {},
   "outputs": [],
   "source": []
  }
 ],
 "metadata": {
  "kernelspec": {
   "display_name": "Python 3 (ipykernel)",
   "language": "python",
   "name": "python3"
  },
  "language_info": {
   "codemirror_mode": {
    "name": "ipython",
    "version": 3
   },
   "file_extension": ".py",
   "mimetype": "text/x-python",
   "name": "python",
   "nbconvert_exporter": "python",
   "pygments_lexer": "ipython3",
   "version": "3.11.5"
  }
 },
 "nbformat": 4,
 "nbformat_minor": 5
}
