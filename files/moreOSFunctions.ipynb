{
 "cells": [
  {
   "cell_type": "code",
   "execution_count": 1,
   "id": "79b005c9-47dd-4cb5-8d92-67a431124f79",
   "metadata": {},
   "outputs": [],
   "source": [
    "import os"
   ]
  },
  {
   "cell_type": "code",
   "execution_count": 2,
   "id": "d7a9cb04-fb05-411a-a248-e68115024043",
   "metadata": {},
   "outputs": [],
   "source": [
    "# os.unlink('bacon.txt')"
   ]
  },
  {
   "cell_type": "code",
   "execution_count": 3,
   "id": "76d6b52d-e775-4625-b5fc-8efe29f21a45",
   "metadata": {},
   "outputs": [],
   "source": [
    "# os.rmdir('C:\\\\users\\josep\\\\MyPythonScripts\\\\files')"
   ]
  },
  {
   "cell_type": "code",
   "execution_count": 4,
   "id": "0e2efb9b-5855-4aba-a55d-191c737e45e8",
   "metadata": {},
   "outputs": [],
   "source": [
    "import shutil"
   ]
  },
  {
   "cell_type": "code",
   "execution_count": 5,
   "id": "e455d9ad-e482-45d7-ac3a-de532efc11fb",
   "metadata": {},
   "outputs": [],
   "source": [
    "# shutil.rmtree(c:\\\\users\\\\josep\\\\MyPythonScripts)"
   ]
  },
  {
   "cell_type": "code",
   "execution_count": null,
   "id": "f46d3a4c-640b-434b-9d83-73807ea488b3",
   "metadata": {},
   "outputs": [],
   "source": [
    "# os.chdir(...)"
   ]
  },
  {
   "cell_type": "code",
   "execution_count": 6,
   "id": "dea2f792-1518-43d9-9fea-a1b8858afac0",
   "metadata": {},
   "outputs": [],
   "source": [
    "# import os\n",
    "# for filename in os.listdir():\n",
    "#     if filename.endswith('.rxt'):\n",
    "#         #os.unlink(filename)\n",
    "#         print(filename)"
   ]
  },
  {
   "cell_type": "code",
   "execution_count": null,
   "id": "a4eb9120-9af2-403e-bf90-76035051d7b2",
   "metadata": {},
   "outputs": [],
   "source": [
    "# send2trash.send2trash() will send a file or folder to recycling bin"
   ]
  }
 ],
 "metadata": {
  "kernelspec": {
   "display_name": "Python 3 (ipykernel)",
   "language": "python",
   "name": "python3"
  },
  "language_info": {
   "codemirror_mode": {
    "name": "ipython",
    "version": 3
   },
   "file_extension": ".py",
   "mimetype": "text/x-python",
   "name": "python",
   "nbconvert_exporter": "python",
   "pygments_lexer": "ipython3",
   "version": "3.11.5"
  }
 },
 "nbformat": 4,
 "nbformat_minor": 5
}
