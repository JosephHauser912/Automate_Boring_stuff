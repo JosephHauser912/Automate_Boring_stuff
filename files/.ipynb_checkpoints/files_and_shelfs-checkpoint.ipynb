{
 "cells": [
  {
   "cell_type": "code",
   "execution_count": 1,
   "id": "d7d4e7af-7b55-468f-9f93-7348de77b1a4",
   "metadata": {},
   "outputs": [],
   "source": [
    "import re\n",
    "import os"
   ]
  },
  {
   "cell_type": "code",
   "execution_count": 13,
   "id": "84a954b6-88c8-4c9a-98b1-3d0585e93b4c",
   "metadata": {},
   "outputs": [],
   "source": [
    "helloFile = open(\"hello.txt\")"
   ]
  },
  {
   "cell_type": "code",
   "execution_count": 16,
   "id": "192adf74-4f2b-496b-976a-67ba64433dd3",
   "metadata": {},
   "outputs": [
    {
     "name": "stdout",
     "output_type": "stream",
     "text": [
      "Hello World!\n"
     ]
    }
   ],
   "source": [
    "print(helloFile.read())"
   ]
  },
  {
   "cell_type": "code",
   "execution_count": 17,
   "id": "2326ed50-8abc-4ce1-b67d-c8f1ef1aa84d",
   "metadata": {},
   "outputs": [
    {
     "data": {
      "text/plain": [
       "''"
      ]
     },
     "execution_count": 17,
     "metadata": {},
     "output_type": "execute_result"
    }
   ],
   "source": [
    "helloFile.read()"
   ]
  },
  {
   "cell_type": "code",
   "execution_count": 19,
   "id": "74a41e34-9702-41f9-92be-65ccd8aea2fd",
   "metadata": {},
   "outputs": [
    {
     "data": {
      "text/plain": [
       "['\\n', 'How are you?']"
      ]
     },
     "execution_count": 19,
     "metadata": {},
     "output_type": "execute_result"
    }
   ],
   "source": [
    "helloFile.readlines()"
   ]
  },
  {
   "cell_type": "code",
   "execution_count": 33,
   "id": "f8e7ed00-b359-4483-bd42-e043c9328891",
   "metadata": {},
   "outputs": [],
   "source": [
    "helloFile2 = open('hello2.txt', 'w')"
   ]
  },
  {
   "cell_type": "code",
   "execution_count": 34,
   "id": "76424e54-c944-4bb4-899c-9c3c4e7196f9",
   "metadata": {},
   "outputs": [
    {
     "data": {
      "text/plain": [
       "9"
      ]
     },
     "execution_count": 34,
     "metadata": {},
     "output_type": "execute_result"
    }
   ],
   "source": [
    "helloFile2.write(\"Hello!!!!\")"
   ]
  },
  {
   "cell_type": "code",
   "execution_count": 36,
   "id": "2d36aeef-a397-4a51-a01f-7d87225058e2",
   "metadata": {},
   "outputs": [],
   "source": [
    "baconFile = open('bacon.txt', 'w')"
   ]
  },
  {
   "cell_type": "code",
   "execution_count": 37,
   "id": "6525bb07-ef26-4b08-a5b1-5c416d9fb182",
   "metadata": {},
   "outputs": [
    {
     "data": {
      "text/plain": [
       "24"
      ]
     },
     "execution_count": 37,
     "metadata": {},
     "output_type": "execute_result"
    }
   ],
   "source": [
    "baconFile.write('Bacon is not a vegetable')"
   ]
  },
  {
   "cell_type": "code",
   "execution_count": 38,
   "id": "0a799c1e-14fe-4114-a38b-eaf8cb818014",
   "metadata": {},
   "outputs": [
    {
     "ename": "UnsupportedOperation",
     "evalue": "not readable",
     "output_type": "error",
     "traceback": [
      "\u001b[1;31m---------------------------------------------------------------------------\u001b[0m",
      "\u001b[1;31mUnsupportedOperation\u001b[0m                      Traceback (most recent call last)",
      "Cell \u001b[1;32mIn[38], line 1\u001b[0m\n\u001b[1;32m----> 1\u001b[0m baconFile\u001b[38;5;241m.\u001b[39mread()\n",
      "\u001b[1;31mUnsupportedOperation\u001b[0m: not readable"
     ]
    }
   ],
   "source": [
    "baconFile.read()"
   ]
  },
  {
   "cell_type": "code",
   "execution_count": 39,
   "id": "77de2ebb-a0bb-4bca-ab3f-103623cf8955",
   "metadata": {},
   "outputs": [],
   "source": [
    "helloFile2.close()"
   ]
  },
  {
   "cell_type": "code",
   "execution_count": 41,
   "id": "ca6dcdd0-2f6d-47f9-a198-4675a7076a55",
   "metadata": {},
   "outputs": [],
   "source": [
    "readsies = open('hello2.txt', 'r')"
   ]
  },
  {
   "cell_type": "code",
   "execution_count": 42,
   "id": "c1b69184-c0b5-4655-9279-e51f6317d14c",
   "metadata": {},
   "outputs": [
    {
     "data": {
      "text/plain": [
       "'Hello!!!!\\nHello!!!!'"
      ]
     },
     "execution_count": 42,
     "metadata": {},
     "output_type": "execute_result"
    }
   ],
   "source": [
    "readsies.read()"
   ]
  },
  {
   "cell_type": "code",
   "execution_count": 43,
   "id": "8ca5fc8f-60a3-47d8-b10a-7e8e92f386ac",
   "metadata": {},
   "outputs": [],
   "source": [
    "readsies.close()"
   ]
  },
  {
   "cell_type": "code",
   "execution_count": 44,
   "id": "476e4d10-85fa-4db6-9c05-652cd17c69bd",
   "metadata": {},
   "outputs": [],
   "source": [
    "baconFile.close()"
   ]
  },
  {
   "cell_type": "code",
   "execution_count": 46,
   "id": "abc39712-d1b0-4a5b-8da0-055d269a356f",
   "metadata": {},
   "outputs": [
    {
     "data": {
      "text/plain": [
       "'C:\\\\Users\\\\josep\\\\MyPythonScripts\\\\files'"
      ]
     },
     "execution_count": 46,
     "metadata": {},
     "output_type": "execute_result"
    }
   ],
   "source": [
    "os.getcwd()"
   ]
  },
  {
   "cell_type": "code",
   "execution_count": 47,
   "id": "ff5d4f3c-0115-441e-be36-87c21906aced",
   "metadata": {},
   "outputs": [],
   "source": [
    "baconFile = open('bacon.txt', 'a')"
   ]
  },
  {
   "cell_type": "code",
   "execution_count": 48,
   "id": "5ec773af-e6ed-4ba7-9c49-c8445961e53f",
   "metadata": {},
   "outputs": [
    {
     "data": {
      "text/plain": [
       "20"
      ]
     },
     "execution_count": 48,
     "metadata": {},
     "output_type": "execute_result"
    }
   ],
   "source": [
    "baconFile.write('\\n\\nBacon is delicious')"
   ]
  },
  {
   "cell_type": "code",
   "execution_count": 49,
   "id": "5ae76f09-0728-40c5-892a-3170b98719cf",
   "metadata": {},
   "outputs": [],
   "source": [
    "baconFile.close()"
   ]
  },
  {
   "cell_type": "code",
   "execution_count": 51,
   "id": "96da01dc-2f04-425c-bb79-d22233fea797",
   "metadata": {},
   "outputs": [
    {
     "data": {
      "text/plain": [
       "'Bacon is not a vegetable\\n\\nBacon is delicious'"
      ]
     },
     "execution_count": 51,
     "metadata": {},
     "output_type": "execute_result"
    }
   ],
   "source": [
    "baconFile = open('bacon.txt', 'r')\n",
    "baconFile.read()"
   ]
  },
  {
   "cell_type": "code",
   "execution_count": 52,
   "id": "57dc938b-6602-44c1-be1a-ff95b6162825",
   "metadata": {},
   "outputs": [],
   "source": [
    "import shelve"
   ]
  },
  {
   "cell_type": "code",
   "execution_count": 53,
   "id": "1ebe83cb-bbb5-4fd4-9a51-b04e2335b682",
   "metadata": {},
   "outputs": [],
   "source": [
    "shelfFile = shelve.open('mydata')"
   ]
  },
  {
   "cell_type": "code",
   "execution_count": 54,
   "id": "b3fddf2c-73ba-4975-a832-69a5cf3eee74",
   "metadata": {},
   "outputs": [],
   "source": [
    "shelfFile['cats'] = ['Zophie', 'Pooka', 'Simon', 'Fat=tail', 'Cleo']"
   ]
  },
  {
   "cell_type": "code",
   "execution_count": 55,
   "id": "abf2d94b-0bf8-448e-a324-7ca7c9ff8d42",
   "metadata": {},
   "outputs": [],
   "source": [
    "shelfFile.close()"
   ]
  },
  {
   "cell_type": "code",
   "execution_count": 56,
   "id": "49efac52-7133-4a47-abd1-f96e7c9447f8",
   "metadata": {},
   "outputs": [],
   "source": [
    "shelfFile = shelve.open('mydata')"
   ]
  },
  {
   "cell_type": "code",
   "execution_count": 57,
   "id": "ab340838-1a3c-4215-87c0-b0aabb3bf09f",
   "metadata": {},
   "outputs": [
    {
     "data": {
      "text/plain": [
       "['Zophie', 'Pooka', 'Simon', 'Fat=tail', 'Cleo']"
      ]
     },
     "execution_count": 57,
     "metadata": {},
     "output_type": "execute_result"
    }
   ],
   "source": [
    "shelfFile['cats']"
   ]
  },
  {
   "cell_type": "code",
   "execution_count": 58,
   "id": "d50e79d1-3725-47bd-ab3b-e4b16fb7d2a2",
   "metadata": {},
   "outputs": [],
   "source": [
    "shelfFile.close()"
   ]
  },
  {
   "cell_type": "code",
   "execution_count": 59,
   "id": "5dac2b90-16cb-478d-966a-a0ba4f4f9b26",
   "metadata": {},
   "outputs": [],
   "source": [
    "shelfFile = shelve.open('mydata')"
   ]
  },
  {
   "cell_type": "code",
   "execution_count": 60,
   "id": "c152a47f-d92d-46a0-a5b2-180a4f087fcb",
   "metadata": {},
   "outputs": [
    {
     "data": {
      "text/plain": [
       "KeysView(<shelve.DbfilenameShelf object at 0x000001DB587E56D0>)"
      ]
     },
     "execution_count": 60,
     "metadata": {},
     "output_type": "execute_result"
    }
   ],
   "source": [
    "shelfFile.keys()"
   ]
  },
  {
   "cell_type": "code",
   "execution_count": 61,
   "id": "fa81d2aa-0164-416f-815a-87ad7d1a9c95",
   "metadata": {},
   "outputs": [
    {
     "data": {
      "text/plain": [
       "['cats']"
      ]
     },
     "execution_count": 61,
     "metadata": {},
     "output_type": "execute_result"
    }
   ],
   "source": [
    "list(shelfFile.keys())"
   ]
  },
  {
   "cell_type": "code",
   "execution_count": 62,
   "id": "1d7e0f44-5f4c-4d51-bebb-5f595fe90178",
   "metadata": {},
   "outputs": [
    {
     "data": {
      "text/plain": [
       "[['Zophie', 'Pooka', 'Simon', 'Fat=tail', 'Cleo']]"
      ]
     },
     "execution_count": 62,
     "metadata": {},
     "output_type": "execute_result"
    }
   ],
   "source": [
    "list(shelfFile.values())"
   ]
  },
  {
   "cell_type": "code",
   "execution_count": null,
   "id": "b52163d9-0a07-4bec-91b5-549c4f85d100",
   "metadata": {},
   "outputs": [],
   "source": []
  },
  {
   "cell_type": "code",
   "execution_count": null,
   "id": "7c61e4c5-c9af-4f6b-8a58-12880efef9fb",
   "metadata": {},
   "outputs": [],
   "source": []
  },
  {
   "cell_type": "code",
   "execution_count": null,
   "id": "62f38ecc-0f6e-4eec-af47-cf506192e1d8",
   "metadata": {},
   "outputs": [],
   "source": []
  },
  {
   "cell_type": "code",
   "execution_count": null,
   "id": "12078ab1-7ecf-48b1-abd7-19a278280fb6",
   "metadata": {},
   "outputs": [],
   "source": []
  },
  {
   "cell_type": "code",
   "execution_count": null,
   "id": "7d364925-08d9-48ac-9b5a-f886785d3c94",
   "metadata": {},
   "outputs": [],
   "source": []
  },
  {
   "cell_type": "code",
   "execution_count": null,
   "id": "4456aa1a-5539-4c38-a50d-55be6842ce43",
   "metadata": {},
   "outputs": [],
   "source": []
  },
  {
   "cell_type": "code",
   "execution_count": null,
   "id": "f6f99a08-54d7-4541-aa51-d705c11dad84",
   "metadata": {},
   "outputs": [],
   "source": []
  },
  {
   "cell_type": "code",
   "execution_count": null,
   "id": "4bbe7000-4875-4801-905d-22718d84a0f6",
   "metadata": {},
   "outputs": [],
   "source": []
  },
  {
   "cell_type": "code",
   "execution_count": null,
   "id": "e3ee31b7-e876-4d32-a0f9-c718383a82d5",
   "metadata": {},
   "outputs": [],
   "source": []
  },
  {
   "cell_type": "code",
   "execution_count": null,
   "id": "61ccd99f-5b20-484d-ba95-700b84c0be53",
   "metadata": {},
   "outputs": [],
   "source": []
  },
  {
   "cell_type": "code",
   "execution_count": null,
   "id": "30167ffd-7278-4510-8d47-e217a9cd1420",
   "metadata": {},
   "outputs": [],
   "source": []
  },
  {
   "cell_type": "code",
   "execution_count": null,
   "id": "530f37f4-d626-49bf-921d-88f2d3dea6f8",
   "metadata": {},
   "outputs": [],
   "source": []
  }
 ],
 "metadata": {
  "kernelspec": {
   "display_name": "Python 3 (ipykernel)",
   "language": "python",
   "name": "python3"
  },
  "language_info": {
   "codemirror_mode": {
    "name": "ipython",
    "version": 3
   },
   "file_extension": ".py",
   "mimetype": "text/x-python",
   "name": "python",
   "nbconvert_exporter": "python",
   "pygments_lexer": "ipython3",
   "version": "3.11.5"
  }
 },
 "nbformat": 4,
 "nbformat_minor": 5
}
