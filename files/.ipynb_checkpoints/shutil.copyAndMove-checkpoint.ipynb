{
 "cells": [
  {
   "cell_type": "code",
   "execution_count": 4,
   "id": "92364394-c04d-4928-bdb5-7c374964ee66",
   "metadata": {},
   "outputs": [],
   "source": [
    "import shutil\n",
    "import os"
   ]
  },
  {
   "cell_type": "code",
   "execution_count": 8,
   "id": "a8d7e0bb-0273-4f2d-84f0-f456d5a9be39",
   "metadata": {},
   "outputs": [
    {
     "data": {
      "text/plain": [
       "'C:\\\\Users\\\\josep\\\\MyPythonScripts\\\\bacon.txt'"
      ]
     },
     "execution_count": 8,
     "metadata": {},
     "output_type": "execute_result"
    }
   ],
   "source": [
    "shutil.copy('bacon.txt', 'C:\\\\Users\\\\josep\\\\MyPythonScripts')"
   ]
  },
  {
   "cell_type": "code",
   "execution_count": 10,
   "id": "f66a6d0e-b85f-454f-9ff7-83f9bbf217ed",
   "metadata": {},
   "outputs": [
    {
     "data": {
      "text/plain": [
       "'C:\\\\Users\\\\josep\\\\MyPythonScripts\\\\files\\\\bacon2.txt'"
      ]
     },
     "execution_count": 10,
     "metadata": {},
     "output_type": "execute_result"
    }
   ],
   "source": [
    "shutil.move('bacon.txt', 'C:\\\\Users\\\\josep\\\\MyPythonScripts\\\\files\\\\bacon2.txt')"
   ]
  },
  {
   "cell_type": "code",
   "execution_count": null,
   "id": "5465a7a2-ece3-49e2-bff9-464436a5aaf8",
   "metadata": {},
   "outputs": [],
   "source": []
  },
  {
   "cell_type": "code",
   "execution_count": 5,
   "id": "409ec002-14df-4643-93cb-1b0bead44aa5",
   "metadata": {},
   "outputs": [
    {
     "data": {
      "text/plain": [
       "'C:\\\\Users\\\\josep\\\\MyPythonScripts\\\\files'"
      ]
     },
     "execution_count": 5,
     "metadata": {},
     "output_type": "execute_result"
    }
   ],
   "source": []
  },
  {
   "cell_type": "code",
   "execution_count": null,
   "id": "29dfab97-7116-4f60-8733-519e5cba856e",
   "metadata": {},
   "outputs": [],
   "source": []
  }
 ],
 "metadata": {
  "kernelspec": {
   "display_name": "Python 3 (ipykernel)",
   "language": "python",
   "name": "python3"
  },
  "language_info": {
   "codemirror_mode": {
    "name": "ipython",
    "version": 3
   },
   "file_extension": ".py",
   "mimetype": "text/x-python",
   "name": "python",
   "nbconvert_exporter": "python",
   "pygments_lexer": "ipython3",
   "version": "3.11.5"
  }
 },
 "nbformat": 4,
 "nbformat_minor": 5
}
